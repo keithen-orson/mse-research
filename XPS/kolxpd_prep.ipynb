{
 "cells": [
  {
   "cell_type": "code",
   "execution_count": 138,
   "metadata": {},
   "outputs": [],
   "source": [
    "from xps_reference import *\n",
    "from pandas import read_csv\n",
    "import os"
   ]
  },
  {
   "cell_type": "code",
   "execution_count": 139,
   "metadata": {},
   "outputs": [],
   "source": [
    "def read_xy(filepath:str,ke_to_binding = True,norm = False):\n",
    "    \"\"\"Read the xy data from a .txt file.  The metadata found in lines 0-18 are ignored.\"\"\"\n",
    "\n",
    "    column_names = [\"Energy\",\"Intensity\"]\n",
    "    # metadata = read_csv(filepath, nrows = 18)\n",
    "    xy = read_csv(filepath,names = column_names,skiprows = 22,delim_whitespace=True,dtype=float)\n",
    "    \n",
    "    if ke_to_binding:\n",
    "        xy[\"Energy\"] = 1486.7-xy[\"Energy\"]\n",
    "    if norm:\n",
    "        xy[\"Intensity\"] = (xy[\"Intensity\"]-xy[\"Intensity\"].min)/(xy[\"Intensity\"].max-xy[\"Intensity\"].min)\n",
    "    return xy\n",
    "\n",
    "def trim_xy_xps(folderpath,ke_to_binding=True,norm=False):\n",
    "    txt_files = [f for f in os.listdir(folderpath) if f.endswith('.txt')]\n",
    "    for file in txt_files:\n",
    "        xy_data = read_xy(os.path.join(folderpath,file),ke_to_binding=ke_to_binding,norm = norm)\n",
    "        copyname = \"copy_\"+file[:-4]+\".csv\"\n",
    "        xy_data.to_csv(os.path.join(folderpath,copyname),index=False)\n",
    "    \n",
    "    \n"
   ]
  },
  {
   "cell_type": "code",
   "execution_count": 140,
   "metadata": {},
   "outputs": [
    {
     "data": {
      "text/html": [
       "<div>\n",
       "<style scoped>\n",
       "    .dataframe tbody tr th:only-of-type {\n",
       "        vertical-align: middle;\n",
       "    }\n",
       "\n",
       "    .dataframe tbody tr th {\n",
       "        vertical-align: top;\n",
       "    }\n",
       "\n",
       "    .dataframe thead th {\n",
       "        text-align: right;\n",
       "    }\n",
       "</style>\n",
       "<table border=\"1\" class=\"dataframe\">\n",
       "  <thead>\n",
       "    <tr style=\"text-align: right;\">\n",
       "      <th></th>\n",
       "      <th>Energy</th>\n",
       "      <th>Intensity</th>\n",
       "    </tr>\n",
       "  </thead>\n",
       "  <tbody>\n",
       "    <tr>\n",
       "      <th>0</th>\n",
       "      <td>1000.02</td>\n",
       "      <td>15281.4073</td>\n",
       "    </tr>\n",
       "    <tr>\n",
       "      <th>1</th>\n",
       "      <td>999.82</td>\n",
       "      <td>15359.0800</td>\n",
       "    </tr>\n",
       "    <tr>\n",
       "      <th>2</th>\n",
       "      <td>999.62</td>\n",
       "      <td>15432.4877</td>\n",
       "    </tr>\n",
       "    <tr>\n",
       "      <th>3</th>\n",
       "      <td>999.42</td>\n",
       "      <td>15407.4240</td>\n",
       "    </tr>\n",
       "    <tr>\n",
       "      <th>4</th>\n",
       "      <td>999.22</td>\n",
       "      <td>15392.4273</td>\n",
       "    </tr>\n",
       "    <tr>\n",
       "      <th>...</th>\n",
       "      <td>...</td>\n",
       "      <td>...</td>\n",
       "    </tr>\n",
       "    <tr>\n",
       "      <th>5021</th>\n",
       "      <td>-4.18</td>\n",
       "      <td>2.3783</td>\n",
       "    </tr>\n",
       "    <tr>\n",
       "      <th>5022</th>\n",
       "      <td>-4.38</td>\n",
       "      <td>0.3550</td>\n",
       "    </tr>\n",
       "    <tr>\n",
       "      <th>5023</th>\n",
       "      <td>-4.58</td>\n",
       "      <td>1.8770</td>\n",
       "    </tr>\n",
       "    <tr>\n",
       "      <th>5024</th>\n",
       "      <td>-4.78</td>\n",
       "      <td>2.5340</td>\n",
       "    </tr>\n",
       "    <tr>\n",
       "      <th>5025</th>\n",
       "      <td>-4.98</td>\n",
       "      <td>1.9533</td>\n",
       "    </tr>\n",
       "  </tbody>\n",
       "</table>\n",
       "<p>5026 rows × 2 columns</p>\n",
       "</div>"
      ],
      "text/plain": [
       "       Energy   Intensity\n",
       "0     1000.02  15281.4073\n",
       "1      999.82  15359.0800\n",
       "2      999.62  15432.4877\n",
       "3      999.42  15407.4240\n",
       "4      999.22  15392.4273\n",
       "...       ...         ...\n",
       "5021    -4.18      2.3783\n",
       "5022    -4.38      0.3550\n",
       "5023    -4.58      1.8770\n",
       "5024    -4.78      2.5340\n",
       "5025    -4.98      1.9533\n",
       "\n",
       "[5026 rows x 2 columns]"
      ]
     },
     "execution_count": 140,
     "metadata": {},
     "output_type": "execute_result"
    }
   ],
   "source": [
    "read_xy(\"/Users/apple/Sync/Research/Alloy 72/2024-6-17 A72 Native oxide XPS/20240617-Alloy 72 native oxide--2_1-Detector_Region.txt\")"
   ]
  },
  {
   "cell_type": "code",
   "execution_count": 141,
   "metadata": {},
   "outputs": [],
   "source": [
    "trim_xy_xps(\"/Users/apple/Sync/Research/Alloy 72/2024-6-17 A72 Native oxide XPS\")"
   ]
  }
 ],
 "metadata": {
  "kernelspec": {
   "display_name": "base",
   "language": "python",
   "name": "python3"
  },
  "language_info": {
   "codemirror_mode": {
    "name": "ipython",
    "version": 3
   },
   "file_extension": ".py",
   "mimetype": "text/x-python",
   "name": "python",
   "nbconvert_exporter": "python",
   "pygments_lexer": "ipython3",
   "version": "3.8.8"
  }
 },
 "nbformat": 4,
 "nbformat_minor": 2
}
