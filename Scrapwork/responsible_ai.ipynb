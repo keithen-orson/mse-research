{
 "cells": [
  {
   "cell_type": "code",
   "execution_count": null,
   "id": "1f648cb2",
   "metadata": {},
   "outputs": [],
   "source": []
  },
  {
   "cell_type": "markdown",
   "id": "e6e4fd14",
   "metadata": {},
   "source": [
    "Responsible AI best practices\n",
    "- Diverse dataset\n",
    "- Human Review\n",
    "- Secure the data\n",
    "- Transparent decision making"
   ]
  },
  {
   "cell_type": "code",
   "execution_count": null,
   "id": "06218537",
   "metadata": {},
   "outputs": [],
   "source": []
  }
 ],
 "metadata": {
  "language_info": {
   "name": "python"
  }
 },
 "nbformat": 4,
 "nbformat_minor": 5
}
