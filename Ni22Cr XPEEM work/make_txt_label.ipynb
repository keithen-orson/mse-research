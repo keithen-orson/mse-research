{
 "cells": [
  {
   "cell_type": "code",
   "execution_count": 2,
   "metadata": {},
   "outputs": [],
   "source": [
    "import numpy as np\n",
    "from skimage import io"
   ]
  },
  {
   "attachments": {},
   "cell_type": "markdown",
   "metadata": {},
   "source": [
    "This program makes a text label for an XAS hyperspectral .tif image file for use with the MANTIS package.  Mantis requires this to work with .tif files"
   ]
  },
  {
   "cell_type": "code",
   "execution_count": 3,
   "metadata": {},
   "outputs": [],
   "source": [
    "def make_txt_label(lower, upper, img_name, z_dimension = 0):\n",
    "\n",
    "    \"\"\"Makes a simple text file with each line representing the energy of the hyperspectral image slice\n",
    "    lower is the lower bound energy, upper is the upper bound energy\n",
    "    The function will make a step for every slice in the z dimension, which defaults to the 0th dimension\"\"\"\n",
    "\n",
    "    image = io.imread(str(img_name))\n",
    "    print(\"input size: \", image.shape)\n",
    "\n",
    "    #create an evenly spaced series with the same number of points as the \n",
    "    values = np.linspace(lower, upper, image.shape[z_dimension])\n",
    "    print(\"output size: \", values.shape)\n",
    "    filename = img_name[0:-4]+\".txt\"\n",
    "    if \".txt\" not in filename:\n",
    "        filename = filename+\".txt\"\n",
    "\n",
    "    f = open(filename,'w')\n",
    "    for value in values:\n",
    "        f.write(str(value)+'\\n')\n",
    "    return"
   ]
  },
  {
   "cell_type": "markdown",
   "metadata": {},
   "source": [
    "All of the following are implementations for making text labels on different images with different settings"
   ]
  },
  {
   "cell_type": "code",
   "execution_count": 4,
   "metadata": {},
   "outputs": [
    {
     "name": "stdout",
     "output_type": "stream",
     "text": [
      "input size:  (77, 1024, 1024)\n",
      "output size:  (77,)\n",
      "input size:  (91, 1024, 1024)\n",
      "output size:  (91,)\n",
      "input size:  (72, 1024, 1024)\n",
      "output size:  (72,)\n",
      "input size:  (77, 1024, 1024)\n",
      "output size:  (77,)\n",
      "input size:  (87, 1024, 1024)\n",
      "output size:  (87,)\n"
     ]
    }
   ],
   "source": [
    "cr_72 = \"/Users/apple/Sync/Research/Alloy 72/20240614_Alloy_72_Native_Oxide/XAS_30um_2CA_2AN_570-584eV_0.2eV_step_Cr2p/XAS_30_um_2CA_2AN_570-584eV_0.2eV_step_Cr2p.tif\"\n",
    "ni_72 = \"/Users/apple/Sync/Research/Alloy 72/20240614_Alloy_72_Native_Oxide/XAS_30um_2CA_2AN_848-865eV_0.2eV_step_Ni2p/XAS_30um_2CA_2AN_848-865eV_0.2eV_step_Ni2p_aligned.tif\"\n",
    "al_72 = \"/Users/apple/Sync/Research/Alloy 72/20240614_Alloy_72_Native_Oxide/XAS_30um_2CA_2AN_75-90eV_0.2eV_step_AL2p/XAS_30um_2CA_2AN_75-90eV_0.2eV_step_Al2p_aligned.tif\"\n",
    "ti_72 = \"/Users/apple/Sync/Research/Alloy 72/20240614_Alloy_72_Native_Oxide/XAS_30um_2CA_2AN_452-470eV_0.2eV_step_Ti2p/XAS_30um_2CA_2AN_452-470eV_0.2eV_step_Ti2p_aligned.tif\"\n",
    "fe_72 = \"/Users/apple/Sync/Research/Alloy 72/20240614_Alloy_72_Native_Oxide/XAS_30um_2CA_2AN_703-718eV_0.2eV_step_Fe2p/XAS_30um_2CA_2AN_703-718eV_0.2eV_step_Fe2p.tif\"\n",
    "\n",
    "make_txt_label(75,90,al_72)\n",
    "make_txt_label(452,470,ti_72)\n",
    "make_txt_label(570,584,cr_72)\n",
    "make_txt_label(703,718,fe_72)\n",
    "make_txt_label(848,865,ni_72)"
   ]
  },
  {
   "cell_type": "code",
   "execution_count": null,
   "metadata": {},
   "outputs": [],
   "source": [
    "vb_60 = \"/Users/apple/Sync/Research/maxPEEM - Ni-22Cr/VB-alighned-tiff/VBEEM_3rd-ox-alighned.tif\"\n",
    "vb_20 = \"/Users/apple/Sync/Research/maxPEEM - Ni-22Cr/VB-alighned-tiff/VBEEM_2nd-ox-alighned-2.tif\"\n",
    "vb_pre = \"/Users/apple/Sync/Research/maxPEEM - Ni-22Cr/VB-alighned-tiff/VBPEEM_pre-ox-not_aligned.tif\"\n",
    "vb_60_norm = \"/Users/apple/Sync/Research/maxPEEM - Ni-22Cr/VB-alighned-tiff/normed_VBEEM_3rd-ox-alighned.tif\"\n",
    "vb_20_norm = \"/Users/apple/Sync/Research/maxPEEM - Ni-22Cr/VB-alighned-tiff/normed_VBEEM_2nd-ox-alighned-2.tif\"\n",
    "vb_pre_norm = \"/Users/apple/Sync/Research/maxPEEM - Ni-22Cr/VB-alighned-tiff/normed_VBPEEM_pre-ox-not_aligned.tif\"\n",
    "make_txt_label(4.4,-.6,vb_60)\n",
    "make_txt_label(4.4,-1,vb_20)\n",
    "make_txt_label(4.4,-.6,vb_pre)\n",
    "make_txt_label(4.4,-.6,vb_60_norm)\n",
    "make_txt_label(4.4,-1,vb_20_norm)\n",
    "make_txt_label(4.4,-.6,vb_pre_norm)"
   ]
  },
  {
   "cell_type": "code",
   "execution_count": null,
   "metadata": {},
   "outputs": [],
   "source": [
    "cr10 = '/Users/apple/Sync/Research/NSLS Experiments 7-16-23/20230716_Ni5Cr/Oxidation XAS mapping/XAS_30um_2CA_1AN_570-584eV_0.2eV_step_Cr2p_oxidation1_region2.tif'\n",
    "cr60 = '/Users/apple/Sync/Research/NSLS Experiments 7-16-23/20230716_Ni5Cr/Oxidation XAS mapping/XAS_30um_2CA_1AN_570-584eV_0.2eV_step_Cr2p_oxidation2_region2.tif'\n",
    "ni10 = '/Users/apple/Sync/Research/NSLS Experiments 7-16-23/20230716_Ni5Cr/Oxidation XAS mapping/XAS_30um_2CA_1AN_848-865eV_0.2eV_step_Ni2p_oxidation1_region2.tif'\n",
    "ni60 = '/Users/apple/Sync/Research/NSLS Experiments 7-16-23/20230716_Ni5Cr/Oxidation XAS mapping/XAS_30um_2CA_1AN_848-865eV_0.2eV_step_Ni2p_oxidation2_region2.tif'\n",
    "\n",
    "make_txt_label(570,584,0.2,cr10)\n",
    "make_txt_label(570,584,0.2,cr60)\n",
    "make_txt_label(848,865,0.2,ni60)\n",
    "make_txt_label(848,865,0.2,ni10)\n"
   ]
  },
  {
   "cell_type": "code",
   "execution_count": 4,
   "metadata": {},
   "outputs": [
    {
     "name": "stdout",
     "output_type": "stream",
     "text": [
      "input size:  (26, 1024, 1024)\n",
      "output size:  (26,)\n",
      "input size:  (28, 1024, 1024)\n",
      "output size:  (28,)\n"
     ]
    }
   ],
   "source": [
    "vb_ox3 = \"/Users/apple/Sync/Research/maxPEEM - Ni-22Cr/3rd_oxidation_45L/vbpeem oxidation 3 re-aligned.tif\"\n",
    "vb_ox2 = \"/Users/apple/Sync/Research/maxPEEM - Ni-22Cr/2nd_oxidation _15L/vbpeem oxidation 2 realigned.tif\"\n",
    "make_txt_label(91,96,vb_ox3)\n",
    "make_txt_label(91,96,vb_ox2)"
   ]
  },
  {
   "cell_type": "code",
   "execution_count": 5,
   "metadata": {},
   "outputs": [
    {
     "name": "stdout",
     "output_type": "stream",
     "text": [
      "input size:  (101, 512, 512)\n",
      "output size:  (101,)\n"
     ]
    }
   ],
   "source": [
    "cr45 = '/Users/apple/Sync/Research/maxPEEM - Ni-22Cr/3rd_oxidation_45L/normed_45L-Cr XAS 570-595 step0p2.tif'\n",
    "make_txt_label(570,590,cr45)"
   ]
  },
  {
   "cell_type": "code",
   "execution_count": null,
   "metadata": {},
   "outputs": [],
   "source": [
    "ni = '/Users/apple/Sync/Research/maxPEEM - Ni-22Cr/3rd_oxidation_45L/45L-cropped-Ni2p XAS 845-875 step0p2-1.tif'\n",
    "make_txt_label(845,875,0.2,ni)"
   ]
  },
  {
   "cell_type": "code",
   "execution_count": null,
   "metadata": {},
   "outputs": [],
   "source": [
    "cr_15 = '/Users/apple/Sync/Research/maxPEEM - Ni-22Cr/2nd_oxidation _15L/15L-Cr XAS 570-595 step0p1667_cropped.tif'\n",
    "make_txt_label(570,595,0.2,cr_15)"
   ]
  },
  {
   "cell_type": "code",
   "execution_count": null,
   "metadata": {},
   "outputs": [],
   "source": [
    "ni_15 = '/Users/apple/Sync/Research/maxPEEM - Ni-22Cr/2nd_oxidation _15L/15L-cropped-Ni2p XAS 845-875 step0p2-1_adjusted.tif'\n",
    "make_txt_label(845,875,0.2,ni_15)"
   ]
  },
  {
   "cell_type": "code",
   "execution_count": null,
   "metadata": {},
   "outputs": [],
   "source": [
    "ni_45 = \"/Users/apple/Sync/Research/maxPEEM - Ni-22Cr/3rd_oxidation_45L/normed_45L-adjusted-Ni2p XAS 845-875 step0p2-1.tif\"\n",
    "make_txt_label(845,875,0.2,ni_45)"
   ]
  },
  {
   "cell_type": "code",
   "execution_count": null,
   "metadata": {},
   "outputs": [],
   "source": [
    "ni_5 = \"/Users/apple/Sync/Research/maxPEEM - Ni-22Cr/1st_oxidation_5L/5L-Ni2p XAS 845-875 step0p2-1-adjusted.tif\"\n",
    "make_txt_label(845,875,0.2,ni_5)\n"
   ]
  },
  {
   "cell_type": "code",
   "execution_count": null,
   "metadata": {},
   "outputs": [],
   "source": [
    "vb_15 = \"/Users/apple/Sync/Research/maxPEEM - Ni-22Cr/2nd_oxidation _15L/15L-VBPEEM91eVto96p4@0p2eVstep-hn100eV.tif\"\n",
    "make_txt_label(5.6,0,0.2,vb_15)"
   ]
  },
  {
   "cell_type": "code",
   "execution_count": null,
   "metadata": {},
   "outputs": [],
   "source": [
    "vb_45 = \"/Users/apple/Sync/Research/maxPEEM - Ni-22Cr/3rd_oxidation_45L/VB-PEEMfrom91to96eVstep0p2-2_17-26_adjusted.tif\"\n",
    "make_txt_label(5,0,0.5,vb_45)"
   ]
  }
 ],
 "metadata": {
  "kernelspec": {
   "display_name": "base",
   "language": "python",
   "name": "python3"
  },
  "language_info": {
   "codemirror_mode": {
    "name": "ipython",
    "version": 3
   },
   "file_extension": ".py",
   "mimetype": "text/x-python",
   "name": "python",
   "nbconvert_exporter": "python",
   "pygments_lexer": "ipython3",
   "version": "3.8.8"
  },
  "orig_nbformat": 4,
  "vscode": {
   "interpreter": {
    "hash": "cf1ee66cb0a5dbbe9b15b35d8b5ef163dfe6de55254de5ac3d70cf481ad0a057"
   }
  }
 },
 "nbformat": 4,
 "nbformat_minor": 2
}
