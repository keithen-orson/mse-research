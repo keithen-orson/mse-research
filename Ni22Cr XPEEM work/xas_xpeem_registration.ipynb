{
 "cells": [
  {
   "cell_type": "code",
   "execution_count": null,
   "metadata": {},
   "outputs": [],
   "source": [
    "from skimage.io import imread\n",
    "from skimage.registration import phase_cross_correlation"
   ]
  },
  {
   "cell_type": "code",
   "execution_count": null,
   "metadata": {},
   "outputs": [],
   "source": [
    "reference =imread('/Users/apple/Sync/Research/NiCr XPEEM/Aligning XAS and XPEEM/mov3frame266_x-60_y-176.tif')\n",
    "target = imread('/Users/apple/Sync/Research/NiCr XPEEM/Aligning XAS and XPEEM/mov3frame266_512x512.tif')\n",
    "shift, error, diffphase = phase_cross_correlation(reference, target)\n",
    "print(shift)\n",
    "print(error)"
   ]
  }
 ],
 "metadata": {
  "language_info": {
   "name": "python"
  },
  "orig_nbformat": 4
 },
 "nbformat": 4,
 "nbformat_minor": 2
}
