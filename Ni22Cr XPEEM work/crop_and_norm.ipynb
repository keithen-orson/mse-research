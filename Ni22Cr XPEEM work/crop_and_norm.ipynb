{
 "cells": [
  {
   "cell_type": "code",
   "execution_count": 4,
   "metadata": {},
   "outputs": [],
   "source": [
    "import numpy as np\n",
    "from PIL import Image\n",
    "from pathlib import Path\n",
    "from skimage import io\n",
    "import matplotlib.pyplot as plt\n",
    "from skimage.io import imread\n",
    "from tifffile import imwrite, imsave\n",
    "from os.path import split, join"
   ]
  },
  {
   "attachments": {},
   "cell_type": "markdown",
   "metadata": {},
   "source": [
    "This script takes .tiff stacks and normalizes them pixelwise, then saves them as a new image.  It can also subtract a mask from an iamge using the mask_subtract function.  "
   ]
  },
  {
   "cell_type": "code",
   "execution_count": 2,
   "metadata": {},
   "outputs": [],
   "source": [
    "#This function is not finished\n",
    "def linear_background_subtract(spectra):\n",
    "    \"\"\"This function subtracts a linear background by taking averaging the first three points and the last three points of a one dimensional\n",
    "    array and \"\"\"\n",
    "    start = np.mean(spectra[0:3])\n",
    "    end = np.mean(spectra[-1:-3])\n",
    "    slope = (end-start)/len(spectra)\n",
    "\n",
    "    for point,i in enumerate(spectra):\n",
    "        br = slope*(i)+start\n",
    "        spectra[i] = spectra[i]-br\n",
    "\n",
    "#This function masks an image by multiplying by a binary (0, 1) mask\n",
    "def mask_subtract(data: str, mask: str, outfile: str):\n",
    "    \"\"\"takes a numpy array and multiplies it buy a mask.  Data and mask must be the same dimensions, and mask must be valued 1-0.\"\"\"\n",
    "    image = io.imread(data)\n",
    "    print(image.shape, image.dtype)\n",
    "    original_dtype = image.dtype\n",
    "    mask = io.imread(str(mask))\n",
    "    print(mask.shape, mask.dtype)\n",
    "    #this should normalize the mask to 0-1.  \n",
    "    mask = (mask-np.min(mask))/(np.max(mask)-np.min(mask))\n",
    "    print(np.min(mask), np.max(mask))\n",
    "\n",
    "    try:\n",
    "        try:\n",
    "            for slice in range(image.shape[0]):\n",
    "                image[slice,:,:] = image[slice,:,:]*mask[:,:,0]\n",
    "        except:\n",
    "                for slice in range(image.shape[0]):\n",
    "                    image[slice,:,:] = image[slice,:,:]*mask[:,:]\n",
    "    except: \n",
    "        print(\"Mask/Image dimension mismatch, masking skipped\")\n",
    "\n",
    "    image = image.astype(original_dtype)\n",
    "    print(image.dtype)\n",
    "    imsave(outfile, image)\n",
    "    return image\n",
    "\n",
    "#This function goes through each pixel in a hyperspectral image and normalizes it (0,1)\n",
    "#This function is essentially equivalent to sklearn.preprocessing.MinMaxScaler, but I didn't know it existed when I wrote this program\n",
    "def norm_tiff_stack(filename: str, fileoutname: str, br_subtract=False):\n",
    "\n",
    "    \"\"\"Takes a .tiff stack and returns the stack after normalizing it pixelwise from 0-1.\n",
    "        Reads a file (filename), and writes a new file (fileoutname)\"\"\"\n",
    "\n",
    "    #Read the tif stack and form a flattened array with the shape [spectrum, pixel]\n",
    "    image = io.imread(str(filename))\n",
    "    print(image.shape)\n",
    "    flattened = np.reshape(image,(image.shape[0],image.shape[1]*image.shape[2]))\n",
    "\n",
    "    #normalize by the max value of the intensity image\n",
    "    normalized_data = np.zeros(flattened.shape)\n",
    "    mins = np.min(flattened, axis=0)\n",
    "    maxs = np.max(flattened, axis=0)\n",
    "    for pixel in range(flattened.shape[1]):\n",
    "        #Account for bad scans that would result in divide by zero errors\n",
    "        spectrumrange = (maxs[pixel]-mins[pixel])\n",
    "        if spectrumrange <0.001: spectrumrange=1\n",
    "\n",
    "        #normalize the data from [0,1]\n",
    "        normalized = (flattened[:,pixel]-mins[pixel])/spectrumrange\n",
    "        normalized_data[:,pixel] = normalized\n",
    "    reshaped = np.reshape(normalized_data,(image.shape[0], image.shape[1],image.shape[2]))\n",
    "    print(reshaped.shape)\n",
    "    reshaped = reshaped*65534\n",
    "    reshaped = reshaped.astype(np.uint32)\n",
    "    print(np.max(reshaped),np.min(reshaped),np.mean(reshaped))\n",
    "    print(reshaped.dtype)\n",
    "    #imwrite(fileoutname, reshaped)\n",
    "    imsave(fileoutname, reshaped)\n",
    "    \n",
    "\n",
    "    \"\"\"Trying to figure out how to get tiffile to write tiffs in a way that actually is readable by mantis and my computer, I thought it might need to save as uint16 but I guess that didn't do it either\"\"\"\n",
    "    # outdata = (reshaped*65535)\n",
    "    # outdata = outdata.astype('int')\n",
    "    # imwrite(fileoutname,outdata)\n",
    "\n",
    "    return reshaped\n",
    "\n"
   ]
  },
  {
   "cell_type": "code",
   "execution_count": null,
   "metadata": {},
   "outputs": [],
   "source": [
    "mask_subtract()"
   ]
  },
  {
   "cell_type": "markdown",
   "metadata": {},
   "source": [
    "Everything below in this function is just using the above functions to save cropped and normalized images"
   ]
  },
  {
   "cell_type": "code",
   "execution_count": 6,
   "metadata": {},
   "outputs": [
    {
     "name": "stdout",
     "output_type": "stream",
     "text": [
      "(72, 1024, 1024) uint16\n",
      "(1024, 1024) uint8\n",
      "0.0 1.0\n",
      "uint16\n",
      "(87, 1024, 1024) uint16\n",
      "(1024, 1024) uint8\n",
      "0.0 1.0\n",
      "uint16\n",
      "(77, 1024, 1024) uint16\n",
      "(1024, 1024) uint8\n",
      "0.0 1.0\n",
      "uint16\n",
      "(91, 1024, 1024) uint16\n",
      "(1024, 1024) uint8\n",
      "0.0 1.0\n",
      "uint16\n",
      "(77, 1024, 1024) uint16\n",
      "(1024, 1024) uint8\n",
      "0.0 1.0\n",
      "uint16\n"
     ]
    },
    {
     "data": {
      "text/plain": [
       "array([[[0, 0, 0, ..., 0, 0, 0],\n",
       "        [0, 0, 0, ..., 0, 0, 0],\n",
       "        [0, 0, 0, ..., 0, 0, 0],\n",
       "        ...,\n",
       "        [0, 0, 0, ..., 0, 0, 0],\n",
       "        [0, 0, 0, ..., 0, 0, 0],\n",
       "        [0, 0, 0, ..., 0, 0, 0]],\n",
       "\n",
       "       [[0, 0, 0, ..., 0, 0, 0],\n",
       "        [0, 0, 0, ..., 0, 0, 0],\n",
       "        [0, 0, 0, ..., 0, 0, 0],\n",
       "        ...,\n",
       "        [0, 0, 0, ..., 0, 0, 0],\n",
       "        [0, 0, 0, ..., 0, 0, 0],\n",
       "        [0, 0, 0, ..., 0, 0, 0]],\n",
       "\n",
       "       [[0, 0, 0, ..., 0, 0, 0],\n",
       "        [0, 0, 0, ..., 0, 0, 0],\n",
       "        [0, 0, 0, ..., 0, 0, 0],\n",
       "        ...,\n",
       "        [0, 0, 0, ..., 0, 0, 0],\n",
       "        [0, 0, 0, ..., 0, 0, 0],\n",
       "        [0, 0, 0, ..., 0, 0, 0]],\n",
       "\n",
       "       ...,\n",
       "\n",
       "       [[0, 0, 0, ..., 0, 0, 0],\n",
       "        [0, 0, 0, ..., 0, 0, 0],\n",
       "        [0, 0, 0, ..., 0, 0, 0],\n",
       "        ...,\n",
       "        [0, 0, 0, ..., 0, 0, 0],\n",
       "        [0, 0, 0, ..., 0, 0, 0],\n",
       "        [0, 0, 0, ..., 0, 0, 0]],\n",
       "\n",
       "       [[0, 0, 0, ..., 0, 0, 0],\n",
       "        [0, 0, 0, ..., 0, 0, 0],\n",
       "        [0, 0, 0, ..., 0, 0, 0],\n",
       "        ...,\n",
       "        [0, 0, 0, ..., 0, 0, 0],\n",
       "        [0, 0, 0, ..., 0, 0, 0],\n",
       "        [0, 0, 0, ..., 0, 0, 0]],\n",
       "\n",
       "       [[0, 0, 0, ..., 0, 0, 0],\n",
       "        [0, 0, 0, ..., 0, 0, 0],\n",
       "        [0, 0, 0, ..., 0, 0, 0],\n",
       "        ...,\n",
       "        [0, 0, 0, ..., 0, 0, 0],\n",
       "        [0, 0, 0, ..., 0, 0, 0],\n",
       "        [0, 0, 0, ..., 0, 0, 0]]], dtype=uint16)"
      ]
     },
     "execution_count": 6,
     "metadata": {},
     "output_type": "execute_result"
    }
   ],
   "source": [
    "cr_72 = \"/Users/apple/Sync/Research/Alloy 72/20240614_Alloy_72_Native_Oxide/XAS_30um_2CA_2AN_570-584eV_0.2eV_step_Cr2p/XAS_30_um_2CA_2AN_570-584eV_0.2eV_step_Cr2p.tif\"\n",
    "ni_72 = \"/Users/apple/Sync/Research/Alloy 72/20240614_Alloy_72_Native_Oxide/XAS_30um_2CA_2AN_848-865eV_0.2eV_step_Ni2p/XAS_30um_2CA_2AN_848-865eV_0.2eV_step_Ni2p_aligned.tif\"\n",
    "al_72 = \"/Users/apple/Sync/Research/Alloy 72/20240614_Alloy_72_Native_Oxide/XAS_30um_2CA_2AN_75-90eV_0.2eV_step_AL2p/XAS_30um_2CA_2AN_75-90eV_0.2eV_step_Al2p_aligned.tif\"\n",
    "ti_72 = \"/Users/apple/Sync/Research/Alloy 72/20240614_Alloy_72_Native_Oxide/XAS_30um_2CA_2AN_452-470eV_0.2eV_step_Ti2p/XAS_30um_2CA_2AN_452-470eV_0.2eV_step_Ti2p_aligned.tif\"\n",
    "fe_72 = \"/Users/apple/Sync/Research/Alloy 72/20240614_Alloy_72_Native_Oxide/XAS_30um_2CA_2AN_703-718eV_0.2eV_step_Fe2p/XAS_30um_2CA_2AN_703-718eV_0.2eV_step_Fe2p.tif\"\n",
    "edge_mask = \"/Users/apple/Sync/Research/Alloy 72/20 px edge mask.tif\"\n",
    "outdir = '/Users/apple/Sync/Research/Alloy 72/20240614_Alloy_72_Native_Oxide/'\n",
    "\n",
    "\n",
    "mask_subtract(cr_72,edge_mask,join(outdir,split(cr_72)[1]))\n",
    "mask_subtract(ni_72,edge_mask,join(outdir,split(ni_72)[1]))\n",
    "mask_subtract(al_72,edge_mask,join(outdir,split(al_72)[1]))\n",
    "mask_subtract(ti_72,edge_mask,join(outdir,split(ti_72)[1]))\n",
    "mask_subtract(fe_72,edge_mask,join(outdir,split(fe_72)[1]))"
   ]
  },
  {
   "cell_type": "code",
   "execution_count": 4,
   "metadata": {},
   "outputs": [
    {
     "name": "stdout",
     "output_type": "stream",
     "text": [
      "(26, 1024, 1024)\n",
      "(26, 1024, 1024)\n",
      "65534 0 30761.509193383732\n",
      "uint32\n",
      "(28, 1024, 1024)\n",
      "(28, 1024, 1024)\n",
      "65534 0 28283.756004367555\n",
      "uint32\n",
      "(26, 1024, 1024)\n",
      "(26, 1024, 1024)\n",
      "65534 0 35289.32481549336\n",
      "uint32\n"
     ]
    },
    {
     "data": {
      "text/plain": [
       "array([[[21105, 21021,  4228, ...,     0,     0, 49805],\n",
       "        [52426, 43224,  5370, ..., 27802, 12600, 45368],\n",
       "        [11442, 13796, 33464, ..., 23405, 46564, 55292],\n",
       "        ...,\n",
       "        [40958, 37449, 32767, ..., 10667, 17096, 16382],\n",
       "        [ 2518,     0,  5957, ..., 36155, 16384,     0],\n",
       "        [16386, 44838, 46812, ...,  6241,  9668, 17148]],\n",
       "\n",
       "       [[ 5554, 22257, 11626, ..., 53618, 23130,  7862],\n",
       "        [26214, 22309, 13965, ..., 23831, 15123, 25202],\n",
       "        [13522, 17245, 37648, ..., 16381,     0, 34813],\n",
       "        ...,\n",
       "        [14337,     0,  4095, ..., 13715,     0,  7281],\n",
       "        [35287, 46115, 23830, ..., 20339, 27851, 15419],\n",
       "        [    0, 20690, 49151, ...,     0,  5370, 14698]],\n",
       "\n",
       "       [[15550, 18548, 15854, ..., 44679, 65534, 10485],\n",
       "        [ 9830, 12548, 12892, ..., 29790,  7559,     0],\n",
       "        [12483,  3449, 22309, ..., 14043, 29317, 47100],\n",
       "        ...,\n",
       "        [43008, 21842, 43008, ..., 15240, 24218, 38228],\n",
       "        [30246, 38836, 65534, ..., 11300, 14744, 26984],\n",
       "        [ 6553, 44838,     0, ..., 10921,  7519, 20211]],\n",
       "\n",
       "       ...,\n",
       "\n",
       "       [[23326, 12365, 26424, ..., 23830, 32767,  7862],\n",
       "        [19661, 20914,  2148, ..., 27802, 25205, 52932],\n",
       "        [ 9361, 13796,     0, ..., 21062, 34493, 14333],\n",
       "        ...,\n",
       "        [43008, 18724, 28671, ...,     0, 11397,  7281],\n",
       "        [22682, 38836, 47661, ..., 20339,  1637,     0],\n",
       "        [ 3279, 13791, 46812, ...,  4679, 13965,  1223]],\n",
       "\n",
       "       [[    0, 23494,     0, ...,     0, 38551,  2619],\n",
       "        [26214,  1393, 16114, ..., 23831,     0, 25202],\n",
       "        [ 6241,  3449, 11154, ...,     0, 18969, 32767],\n",
       "        ...,\n",
       "        [28671, 56174, 22528, ...,     0,  5698,  5459],\n",
       "        [32764, 41261,  8938, ...,     0,     0,  7709],\n",
       "        [16386, 48284, 32768, ...,  4679,  2148,     0]],\n",
       "\n",
       "       [[    0,  9892,  7398, ..., 20849, 26985, 23590],\n",
       "        [    0, 13943,     0, ..., 29790, 32764, 57973],\n",
       "        [ 5200, 22420, 11154, ...,  7019, 27594, 32767],\n",
       "        ...,\n",
       "        [14337, 31207, 22528, ...,  3048, 17096, 20023],\n",
       "        [25205, 24272, 26811, ...,  6781,     0,  3854],\n",
       "        [55706, 65534, 25745, ..., 10921,  6446,   611]]], dtype=uint32)"
      ]
     },
     "execution_count": 4,
     "metadata": {},
     "output_type": "execute_result"
    }
   ],
   "source": [
    "#calculating normalized images for valence band\n",
    "vb_60 = \"/Users/apple/Sync/Research/maxPEEM - Ni-22Cr/VB-alighned-tiff/VBEEM_3rd-ox-alighned.tif\"\n",
    "vb_20 = \"/Users/apple/Sync/Research/maxPEEM - Ni-22Cr/VB-alighned-tiff/VBEEM_2nd-ox-alighned-2.tif\"\n",
    "vb_pre = \"/Users/apple/Sync/Research/maxPEEM - Ni-22Cr/VB-alighned-tiff/VBPEEM_pre-ox-not_aligned.tif\"\n",
    "\n",
    "vb_60_norm = \"/Users/apple/Sync/Research/maxPEEM - Ni-22Cr/VB-alighned-tiff/normed_VBEEM_3rd-ox-alighned.tif\"\n",
    "vb_20_norm = \"/Users/apple/Sync/Research/maxPEEM - Ni-22Cr/VB-alighned-tiff/normed_VBEEM_2nd-ox-alighned-2.tif\"\n",
    "vb_pre_norm = \"/Users/apple/Sync/Research/maxPEEM - Ni-22Cr/VB-alighned-tiff/normed_VBPEEM_pre-ox-not_aligned.tif\"\n",
    "\n",
    "norm_tiff_stack(vb_60,vb_60_norm)\n",
    "norm_tiff_stack(vb_20,vb_20_norm)\n",
    "norm_tiff_stack(vb_pre,vb_pre_norm)"
   ]
  },
  {
   "cell_type": "code",
   "execution_count": 5,
   "metadata": {},
   "outputs": [
    {
     "name": "stdout",
     "output_type": "stream",
     "text": [
      "(269, 1024, 1024) uint8\n",
      "(1024, 1024) uint8\n",
      "0.0 1.0\n",
      "uint8\n"
     ]
    }
   ],
   "source": [
    "mask_subtract(\"median_plus_8000.tif\",\"3rd_oxidation_mask.tif\",\"median_8000_masked.tif\")"
   ]
  },
  {
   "cell_type": "code",
   "execution_count": 4,
   "metadata": {},
   "outputs": [
    {
     "name": "stdout",
     "output_type": "stream",
     "text": [
      "(101, 512, 512) uint16\n",
      "(512, 512) uint8\n",
      "0.0 1.0\n",
      "uint16\n",
      "(101, 512, 512) uint16\n",
      "(512, 512) uint8\n",
      "0.0 1.0\n",
      "uint16\n"
     ]
    }
   ],
   "source": [
    "particlemask = '/Users/apple/Sync/Research/Drafts/XPEEM Lund paper/Figure Files/NNMA segmentation/particle segmented_NNMA_1.tif'\n",
    "metalmask = '/Users/apple/Sync/Research/Drafts/XPEEM Lund paper/Figure Files/NNMA segmentation/metal segmented_NNMA_1.tif'\n",
    "cr_45L = '/Users/apple/Sync/Research/maxPEEM - Ni-22Cr/3rd_oxidation_45L/45L-adjusted-Cr XAS 570-595 step0p2.tif'\n",
    "particles = mask_subtract(cr_45L,particlemask,'particle_xas.tif')\n",
    "metal = mask_subtract(cr_45L, metalmask,'metal_xas.tif')"
   ]
  },
  {
   "cell_type": "code",
   "execution_count": 4,
   "metadata": {},
   "outputs": [
    {
     "name": "stdout",
     "output_type": "stream",
     "text": [
      "uint16\n",
      "(512, 512, 3) uint8\n",
      "1.0 0.0\n",
      "uint16\n"
     ]
    }
   ],
   "source": [
    "cr_45L = '/Users/apple/Sync/Research/maxPEEM - Ni-22Cr/3rd_oxidation_45L/45L-adjusted-Cr XAS 570-595 step0p2.tif'\n",
    "mask = \"/Users/apple/Sync/Research/maxPEEM - Ni-22Cr/1st_oxidation_5L/mask_512.png\"\n",
    "\n",
    "\n",
    "\n",
    "mask_subtract(cr_45L,mask,\"test.tif\")\n",
    "\n",
    "# cr_45L = 'test.tif'\n",
    "# newfile = '/Users/apple/Sync/Research/maxPEEM - Ni-22Cr/3rd_oxidation_45L/normed_45L-Cr XAS 570-595 step0p2.tif'\n",
    "# normalized_cr_45L = norm_tiff_stack(cr_45L,newfile)"
   ]
  },
  {
   "cell_type": "code",
   "execution_count": null,
   "metadata": {},
   "outputs": [],
   "source": []
  },
  {
   "cell_type": "code",
   "execution_count": 6,
   "metadata": {},
   "outputs": [
    {
     "name": "stdout",
     "output_type": "stream",
     "text": [
      "uint16\n",
      "(1024, 1024, 3) uint8\n",
      "1.0 0.0\n",
      "uint16\n",
      "(151, 1024, 1024)\n",
      "(151, 1024, 1024)\n",
      "65534 0 7765.159948942677\n",
      "uint32\n"
     ]
    }
   ],
   "source": [
    "ni_45L = \"/Users/apple/Sync/Research/maxPEEM - Ni-22Cr/3rd_oxidation_45L/45L-adjusted-Ni2p XAS 845-875 step0p2-1.tif\"\n",
    "mask = \"/Users/apple/Sync/Research/maxPEEM - Ni-22Cr/1st_oxidation_5L/mask_1024.png\"\n",
    "newfile = '/Users/apple/Sync/Research/maxPEEM - Ni-22Cr/3rd_oxidation_45L/normed_45L-adjusted-Ni2p XAS 845-875 step0p2-1.tif'\n",
    "\n",
    "mask_subtract(ni_45L,mask,\"temp.tif\")\n",
    "normalized_ni_45L = norm_tiff_stack(\"temp.tif\",newfile)"
   ]
  },
  {
   "cell_type": "code",
   "execution_count": 3,
   "metadata": {},
   "outputs": [
    {
     "name": "stdout",
     "output_type": "stream",
     "text": [
      "uint16\n",
      "(1024, 1024, 3) uint8\n",
      "1.0 0.0\n",
      "uint16\n",
      "(151, 1024, 1024)\n",
      "(151, 1024, 1024)\n",
      "65534 0 8125.157998173442\n",
      "uint32\n"
     ]
    }
   ],
   "source": [
    "ni_5 = \"/Users/apple/Sync/Research/maxPEEM - Ni-22Cr/1st_oxidation_5L/5L-Ni2p XAS 845-875 step0p2-1-adjusted.tif\"\n",
    "mask = \"/Users/apple/Sync/Research/maxPEEM - Ni-22Cr/1st_oxidation_5L/mask_1024.png\"\n",
    "newfile = \"/Users/apple/Sync/Research/maxPEEM - Ni-22Cr/1st_oxidation_5L/normed_5L-Ni2p XAS 845-875 step0p2-1-adjusted.tif\"\n",
    "\n",
    "mask_subtract(ni_5,mask,\"temp.tif\")\n",
    "normalized_ni_5L = norm_tiff_stack(\"temp.tif\",newfile)"
   ]
  },
  {
   "cell_type": "code",
   "execution_count": 3,
   "metadata": {},
   "outputs": [
    {
     "name": "stdout",
     "output_type": "stream",
     "text": [
      "uint16\n",
      "(1024, 1024, 3) uint8\n",
      "1.0 0.0\n",
      "uint16\n",
      "(151, 1024, 1024)\n",
      "(151, 1024, 1024)\n",
      "65534 0 7863.094500693264\n",
      "uint32\n",
      "uint16\n",
      "(1024, 1024, 3) uint8\n",
      "1.0 0.0\n",
      "uint16\n",
      "(151, 1024, 1024)\n",
      "(151, 1024, 1024)\n",
      "65534 0 13902.786222704199\n",
      "uint32\n"
     ]
    }
   ],
   "source": [
    "ni_15 = \"/Users/apple/Sync/Research/maxPEEM - Ni-22Cr/2nd_oxidation _15L/15L-corrected-Ni2p XAS 845-875 step0p2-1_adjusted.tif\"\n",
    "mask = \"/Users/apple/Sync/Research/maxPEEM - Ni-22Cr/1st_oxidation_5L/mask_1024.png\"\n",
    "newfile = \"/Users/apple/Sync/Research/maxPEEM - Ni-22Cr/2nd_oxidation _15L/normed_15L-corrected-Ni2p XAS 845-875 step0p2-1_adjusted.tif\"\n",
    "mask_subtract(ni_15,mask,\"temp.tif\")\n",
    "normalized_ni_15L = norm_tiff_stack(\"temp.tif\",newfile)\n",
    "\n",
    "\n",
    "cr_15 = \"/Users/apple/Sync/Research/maxPEEM - Ni-22Cr/2nd_oxidation _15L/15L-Cr XAS 570-595 step0p1667_adjusted.tif\"\n",
    "mask = \"/Users/apple/Sync/Research/maxPEEM - Ni-22Cr/1st_oxidation_5L/mask_1024.png\"\n",
    "newfile = \"/Users/apple/Sync/Research/maxPEEM - Ni-22Cr/2nd_oxidation _15L/normed_15L-Cr XAS 570-595 step0p1667_adjusted.tif\"\n",
    "mask_subtract(cr_15,mask,\"temp.tif\")\n",
    "normalized_cr_15L = norm_tiff_stack(\"temp.tif\",newfile)\n",
    "\n"
   ]
  },
  {
   "cell_type": "code",
   "execution_count": 8,
   "metadata": {},
   "outputs": [
    {
     "name": "stdout",
     "output_type": "stream",
     "text": [
      "uint16\n",
      "(1024, 1024, 3) uint8\n",
      "1.0 0.0\n",
      "uint16\n",
      "(28, 1024, 1024)\n",
      "(28, 1024, 1024)\n",
      "65534 0 14556.439660719463\n",
      "uint32\n",
      "uint16\n",
      "(1024, 1024, 3) uint8\n",
      "1.0 0.0\n",
      "uint16\n",
      "(10, 1024, 1024)\n",
      "(10, 1024, 1024)\n",
      "65534 0 15595.296198940277\n",
      "uint32\n"
     ]
    },
    {
     "ename": "FileNotFoundError",
     "evalue": "[Errno 2] No such file or directory: '/Users/apple/vscode/Users/apple/Sync/Research/maxPEEM - Ni-22Cr/3rd_oxidation_45L/new_VB-PEEMfrom91to96eVstep0p2-2_17-26_adjusted.tif'",
     "output_type": "error",
     "traceback": [
      "\u001b[0;31m---------------------------------------------------------------------------\u001b[0m",
      "\u001b[0;31mFileNotFoundError\u001b[0m                         Traceback (most recent call last)",
      "\u001b[0;32m<ipython-input-8-3b142981318d>\u001b[0m in \u001b[0;36m<module>\u001b[0;34m\u001b[0m\n\u001b[1;32m      9\u001b[0m \u001b[0mnewfile\u001b[0m \u001b[0;34m=\u001b[0m \u001b[0;34m\"Users/apple/Sync/Research/maxPEEM - Ni-22Cr/3rd_oxidation_45L/new_VB-PEEMfrom91to96eVstep0p2-2_17-26_adjusted.tif\"\u001b[0m\u001b[0;34m\u001b[0m\u001b[0;34m\u001b[0m\u001b[0m\n\u001b[1;32m     10\u001b[0m \u001b[0mmask_subtract\u001b[0m\u001b[0;34m(\u001b[0m\u001b[0mvb_45\u001b[0m\u001b[0;34m,\u001b[0m\u001b[0mmask\u001b[0m\u001b[0;34m,\u001b[0m\u001b[0;34m\"temp.tif\"\u001b[0m\u001b[0;34m)\u001b[0m\u001b[0;34m\u001b[0m\u001b[0;34m\u001b[0m\u001b[0m\n\u001b[0;32m---> 11\u001b[0;31m \u001b[0mnormalized_vb_15L\u001b[0m \u001b[0;34m=\u001b[0m \u001b[0mnorm_tiff_stack\u001b[0m\u001b[0;34m(\u001b[0m\u001b[0;34m\"temp.tif\"\u001b[0m\u001b[0;34m,\u001b[0m\u001b[0mnewfile\u001b[0m\u001b[0;34m)\u001b[0m\u001b[0;34m\u001b[0m\u001b[0;34m\u001b[0m\u001b[0m\n\u001b[0m",
      "\u001b[0;32m<ipython-input-5-0a3e8758e9ce>\u001b[0m in \u001b[0;36mnorm_tiff_stack\u001b[0;34m(filename, fileoutname, br_subtract)\u001b[0m\n\u001b[1;32m     57\u001b[0m     \u001b[0mprint\u001b[0m\u001b[0;34m(\u001b[0m\u001b[0mreshaped\u001b[0m\u001b[0;34m.\u001b[0m\u001b[0mdtype\u001b[0m\u001b[0;34m)\u001b[0m\u001b[0;34m\u001b[0m\u001b[0;34m\u001b[0m\u001b[0m\n\u001b[1;32m     58\u001b[0m     \u001b[0;31m#imwrite(fileoutname, reshaped)\u001b[0m\u001b[0;34m\u001b[0m\u001b[0;34m\u001b[0m\u001b[0;34m\u001b[0m\u001b[0m\n\u001b[0;32m---> 59\u001b[0;31m     \u001b[0mimsave\u001b[0m\u001b[0;34m(\u001b[0m\u001b[0mfileoutname\u001b[0m\u001b[0;34m,\u001b[0m \u001b[0mreshaped\u001b[0m\u001b[0;34m)\u001b[0m\u001b[0;34m\u001b[0m\u001b[0;34m\u001b[0m\u001b[0m\n\u001b[0m\u001b[1;32m     60\u001b[0m \u001b[0;34m\u001b[0m\u001b[0m\n\u001b[1;32m     61\u001b[0m \u001b[0;34m\u001b[0m\u001b[0m\n",
      "\u001b[0;32m~/opt/anaconda3/lib/python3.8/site-packages/tifffile/tifffile.py\u001b[0m in \u001b[0;36mimwrite\u001b[0;34m(file, data, shape, dtype, **kwargs)\u001b[0m\n\u001b[1;32m    784\u001b[0m         \u001b[0mtifargs\u001b[0m\u001b[0;34m[\u001b[0m\u001b[0;34m'byteorder'\u001b[0m\u001b[0;34m]\u001b[0m \u001b[0;34m=\u001b[0m \u001b[0mbyteorder\u001b[0m\u001b[0;34m\u001b[0m\u001b[0;34m\u001b[0m\u001b[0m\n\u001b[1;32m    785\u001b[0m \u001b[0;34m\u001b[0m\u001b[0m\n\u001b[0;32m--> 786\u001b[0;31m     \u001b[0;32mwith\u001b[0m \u001b[0mTiffWriter\u001b[0m\u001b[0;34m(\u001b[0m\u001b[0mfile\u001b[0m\u001b[0;34m,\u001b[0m \u001b[0;34m**\u001b[0m\u001b[0mtifargs\u001b[0m\u001b[0;34m)\u001b[0m \u001b[0;32mas\u001b[0m \u001b[0mtif\u001b[0m\u001b[0;34m:\u001b[0m\u001b[0;34m\u001b[0m\u001b[0;34m\u001b[0m\u001b[0m\n\u001b[0m\u001b[1;32m    787\u001b[0m         \u001b[0;32mreturn\u001b[0m \u001b[0mtif\u001b[0m\u001b[0;34m.\u001b[0m\u001b[0mwrite\u001b[0m\u001b[0;34m(\u001b[0m\u001b[0mdata\u001b[0m\u001b[0;34m,\u001b[0m \u001b[0mshape\u001b[0m\u001b[0;34m,\u001b[0m \u001b[0mdtype\u001b[0m\u001b[0;34m,\u001b[0m \u001b[0;34m**\u001b[0m\u001b[0mkwargs\u001b[0m\u001b[0;34m)\u001b[0m\u001b[0;34m\u001b[0m\u001b[0;34m\u001b[0m\u001b[0m\n\u001b[1;32m    788\u001b[0m \u001b[0;34m\u001b[0m\u001b[0m\n",
      "\u001b[0;32m~/opt/anaconda3/lib/python3.8/site-packages/tifffile/tifffile.py\u001b[0m in \u001b[0;36m__init__\u001b[0;34m(self, file, bigtiff, byteorder, append, imagej, ome)\u001b[0m\n\u001b[1;32m   1028\u001b[0m             \u001b[0mself\u001b[0m\u001b[0;34m.\u001b[0m\u001b[0m_fh\u001b[0m\u001b[0;34m.\u001b[0m\u001b[0mseek\u001b[0m\u001b[0;34m(\u001b[0m\u001b[0;36m0\u001b[0m\u001b[0;34m,\u001b[0m \u001b[0;36m2\u001b[0m\u001b[0;34m)\u001b[0m\u001b[0;34m\u001b[0m\u001b[0;34m\u001b[0m\u001b[0m\n\u001b[1;32m   1029\u001b[0m         \u001b[0;32melse\u001b[0m\u001b[0;34m:\u001b[0m\u001b[0;34m\u001b[0m\u001b[0;34m\u001b[0m\u001b[0m\n\u001b[0;32m-> 1030\u001b[0;31m             \u001b[0mself\u001b[0m\u001b[0;34m.\u001b[0m\u001b[0m_fh\u001b[0m \u001b[0;34m=\u001b[0m \u001b[0mFileHandle\u001b[0m\u001b[0;34m(\u001b[0m\u001b[0mfile\u001b[0m\u001b[0;34m,\u001b[0m \u001b[0mmode\u001b[0m\u001b[0;34m=\u001b[0m\u001b[0;34m'wb'\u001b[0m\u001b[0;34m,\u001b[0m \u001b[0msize\u001b[0m\u001b[0;34m=\u001b[0m\u001b[0;36m0\u001b[0m\u001b[0;34m)\u001b[0m\u001b[0;34m\u001b[0m\u001b[0;34m\u001b[0m\u001b[0m\n\u001b[0m\u001b[1;32m   1031\u001b[0m             \u001b[0mself\u001b[0m\u001b[0;34m.\u001b[0m\u001b[0m_fh\u001b[0m\u001b[0;34m.\u001b[0m\u001b[0mwrite\u001b[0m\u001b[0;34m(\u001b[0m\u001b[0;34m{\u001b[0m\u001b[0;34m'<'\u001b[0m\u001b[0;34m:\u001b[0m \u001b[0;34mb'II'\u001b[0m\u001b[0;34m,\u001b[0m \u001b[0;34m'>'\u001b[0m\u001b[0;34m:\u001b[0m \u001b[0;34mb'MM'\u001b[0m\u001b[0;34m}\u001b[0m\u001b[0;34m[\u001b[0m\u001b[0mbyteorder\u001b[0m\u001b[0;34m]\u001b[0m\u001b[0;34m)\u001b[0m\u001b[0;34m\u001b[0m\u001b[0;34m\u001b[0m\u001b[0m\n\u001b[1;32m   1032\u001b[0m             \u001b[0;32mif\u001b[0m \u001b[0mbigtiff\u001b[0m\u001b[0;34m:\u001b[0m\u001b[0;34m\u001b[0m\u001b[0;34m\u001b[0m\u001b[0m\n",
      "\u001b[0;32m~/opt/anaconda3/lib/python3.8/site-packages/tifffile/tifffile.py\u001b[0m in \u001b[0;36m__init__\u001b[0;34m(self, file, mode, name, offset, size)\u001b[0m\n\u001b[1;32m   8209\u001b[0m         \u001b[0mself\u001b[0m\u001b[0;34m.\u001b[0m\u001b[0mis_file\u001b[0m \u001b[0;34m=\u001b[0m \u001b[0;32mNone\u001b[0m\u001b[0;34m\u001b[0m\u001b[0;34m\u001b[0m\u001b[0m\n\u001b[1;32m   8210\u001b[0m         \u001b[0mself\u001b[0m\u001b[0;34m.\u001b[0m\u001b[0m_lock\u001b[0m \u001b[0;34m=\u001b[0m \u001b[0mNullContext\u001b[0m\u001b[0;34m(\u001b[0m\u001b[0;34m)\u001b[0m\u001b[0;34m\u001b[0m\u001b[0;34m\u001b[0m\u001b[0m\n\u001b[0;32m-> 8211\u001b[0;31m         \u001b[0mself\u001b[0m\u001b[0;34m.\u001b[0m\u001b[0mopen\u001b[0m\u001b[0;34m(\u001b[0m\u001b[0;34m)\u001b[0m\u001b[0;34m\u001b[0m\u001b[0;34m\u001b[0m\u001b[0m\n\u001b[0m\u001b[1;32m   8212\u001b[0m \u001b[0;34m\u001b[0m\u001b[0m\n\u001b[1;32m   8213\u001b[0m     \u001b[0;32mdef\u001b[0m \u001b[0mopen\u001b[0m\u001b[0;34m(\u001b[0m\u001b[0mself\u001b[0m\u001b[0;34m)\u001b[0m\u001b[0;34m:\u001b[0m\u001b[0;34m\u001b[0m\u001b[0;34m\u001b[0m\u001b[0m\n",
      "\u001b[0;32m~/opt/anaconda3/lib/python3.8/site-packages/tifffile/tifffile.py\u001b[0m in \u001b[0;36mopen\u001b[0;34m(self)\u001b[0m\n\u001b[1;32m   8222\u001b[0m             \u001b[0mself\u001b[0m\u001b[0;34m.\u001b[0m\u001b[0m_file\u001b[0m \u001b[0;34m=\u001b[0m \u001b[0mos\u001b[0m\u001b[0;34m.\u001b[0m\u001b[0mpath\u001b[0m\u001b[0;34m.\u001b[0m\u001b[0mrealpath\u001b[0m\u001b[0;34m(\u001b[0m\u001b[0mself\u001b[0m\u001b[0;34m.\u001b[0m\u001b[0m_file\u001b[0m\u001b[0;34m)\u001b[0m\u001b[0;34m\u001b[0m\u001b[0;34m\u001b[0m\u001b[0m\n\u001b[1;32m   8223\u001b[0m             \u001b[0mself\u001b[0m\u001b[0;34m.\u001b[0m\u001b[0m_dir\u001b[0m\u001b[0;34m,\u001b[0m \u001b[0mself\u001b[0m\u001b[0;34m.\u001b[0m\u001b[0m_name\u001b[0m \u001b[0;34m=\u001b[0m \u001b[0mos\u001b[0m\u001b[0;34m.\u001b[0m\u001b[0mpath\u001b[0m\u001b[0;34m.\u001b[0m\u001b[0msplit\u001b[0m\u001b[0;34m(\u001b[0m\u001b[0mself\u001b[0m\u001b[0;34m.\u001b[0m\u001b[0m_file\u001b[0m\u001b[0;34m)\u001b[0m\u001b[0;34m\u001b[0m\u001b[0;34m\u001b[0m\u001b[0m\n\u001b[0;32m-> 8224\u001b[0;31m             \u001b[0mself\u001b[0m\u001b[0;34m.\u001b[0m\u001b[0m_fh\u001b[0m \u001b[0;34m=\u001b[0m \u001b[0mopen\u001b[0m\u001b[0;34m(\u001b[0m\u001b[0mself\u001b[0m\u001b[0;34m.\u001b[0m\u001b[0m_file\u001b[0m\u001b[0;34m,\u001b[0m \u001b[0mself\u001b[0m\u001b[0;34m.\u001b[0m\u001b[0m_mode\u001b[0m\u001b[0;34m)\u001b[0m\u001b[0;34m\u001b[0m\u001b[0;34m\u001b[0m\u001b[0m\n\u001b[0m\u001b[1;32m   8225\u001b[0m             \u001b[0mself\u001b[0m\u001b[0;34m.\u001b[0m\u001b[0m_close\u001b[0m \u001b[0;34m=\u001b[0m \u001b[0;32mTrue\u001b[0m\u001b[0;34m\u001b[0m\u001b[0;34m\u001b[0m\u001b[0m\n\u001b[1;32m   8226\u001b[0m             \u001b[0;32mif\u001b[0m \u001b[0mself\u001b[0m\u001b[0;34m.\u001b[0m\u001b[0m_offset\u001b[0m \u001b[0;32mis\u001b[0m \u001b[0;32mNone\u001b[0m\u001b[0;34m:\u001b[0m\u001b[0;34m\u001b[0m\u001b[0;34m\u001b[0m\u001b[0m\n",
      "\u001b[0;31mFileNotFoundError\u001b[0m: [Errno 2] No such file or directory: '/Users/apple/vscode/Users/apple/Sync/Research/maxPEEM - Ni-22Cr/3rd_oxidation_45L/new_VB-PEEMfrom91to96eVstep0p2-2_17-26_adjusted.tif'"
     ]
    }
   ],
   "source": [
    "vb_15 = \"/Users/apple/Sync/Research/maxPEEM - Ni-22Cr/2nd_oxidation _15L/15L-VBPEEM91eVto96p4@0p2eVstep-hn100eV.tif\"\n",
    "mask = \"/Users/apple/Sync/Research/maxPEEM - Ni-22Cr/1st_oxidation_5L/mask_1024.png\"\n",
    "newfile = \"/Users/apple/Sync/Research/maxPEEM - Ni-22Cr/2nd_oxidation _15L/normed_15L-VBPEEM91eVto96p4@0p2eVstep-hn100eV.tif\"\n",
    "mask_subtract(vb_15,mask,\"temp.tif\")\n",
    "normalized_vb_15L = norm_tiff_stack(\"temp.tif\",newfile)\n",
    "\n"
   ]
  },
  {
   "cell_type": "code",
   "execution_count": 9,
   "metadata": {},
   "outputs": [
    {
     "name": "stdout",
     "output_type": "stream",
     "text": [
      "uint16\n",
      "(1024, 1024, 3) uint8\n",
      "1.0 0.0\n",
      "uint16\n",
      "(10, 1024, 1024)\n",
      "(10, 1024, 1024)\n",
      "65534 0 15595.296198940277\n",
      "uint32\n"
     ]
    }
   ],
   "source": [
    "vb_45 = \"/Users/apple/Sync/Research/maxPEEM - Ni-22Cr/3rd_oxidation_45L/VB-PEEMfrom91to96eVstep0p2-2_17-26_adjusted.tif\"\n",
    "mask = \"/Users/apple/Sync/Research/maxPEEM - Ni-22Cr/1st_oxidation_5L/mask_1024.png\"\n",
    "newfile = \"test2.tif\"\n",
    "mask_subtract(vb_45,mask,\"temp.tif\")\n",
    "normalized_vb_15L = norm_tiff_stack(\"temp.tif\",newfile)\n"
   ]
  }
 ],
 "metadata": {
  "kernelspec": {
   "display_name": "base",
   "language": "python",
   "name": "python3"
  },
  "language_info": {
   "codemirror_mode": {
    "name": "ipython",
    "version": 3
   },
   "file_extension": ".py",
   "mimetype": "text/x-python",
   "name": "python",
   "nbconvert_exporter": "python",
   "pygments_lexer": "ipython3",
   "version": "3.8.8"
  },
  "orig_nbformat": 4,
  "vscode": {
   "interpreter": {
    "hash": "cf1ee66cb0a5dbbe9b15b35d8b5ef163dfe6de55254de5ac3d70cf481ad0a057"
   }
  }
 },
 "nbformat": 4,
 "nbformat_minor": 2
}
