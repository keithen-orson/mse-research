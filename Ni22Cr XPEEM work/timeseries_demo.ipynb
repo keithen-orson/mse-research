{
 "cells": [
  {
   "cell_type": "code",
   "execution_count": null,
   "metadata": {},
   "outputs": [],
   "source": [
    "from xpeem_utils import *\n",
    "from skimage.io import imread\n",
    "import numpy as np\n",
    "from tifffile import imsave\n",
    "import matplotlib as mpl\n",
    "mpl.rcParams['figure.dpi'] = 200\n"
   ]
  },
  {
   "cell_type": "markdown",
   "metadata": {},
   "source": [
    "The timeseries data consists of movies in the .tiff format. Movie 2 goes from 30-48 L of O2 exposure and movie 3 goes from 48-65 L of O2 exposure.  Prior to 30 L of exposure, no islands are observed so they are not included in this demo"
   ]
  },
  {
   "cell_type": "code",
   "execution_count": null,
   "metadata": {},
   "outputs": [],
   "source": [
    "#Read a timeseries data\n",
    "mov2 = imread('Data/2-CrXAS-movie@577-5eV.tif')\n",
    "mov3 = imread('Data/3-CrXAS-movie@577-5eV.tif')\n",
    "\n",
    "#Read Masks\n",
    "mov2_mask = imread(\"Data/2nd_oxidation_mask.tif\")\n",
    "mov3_mask = imread(\"Data/3rd_oxidation_mask.tif\")"
   ]
  },
  {
   "cell_type": "code",
   "execution_count": null,
   "metadata": {},
   "outputs": [],
   "source": [
    "#Plot: a) a representative frame from movie 2, b) the mask used for movie 2, \n",
    "# c) a representative frame from movie 3, and d) a representative frame from movie 3.\n",
    "fig, axs = plt.subplots(ncols=4,)\n",
    "axs[0].imshow(mov2[50,:,:])\n",
    "axs[0].title.set_text(\"a)\")\n",
    "axs[1].imshow(mov2_mask)\n",
    "axs[1].title.set_text(\"b)\")\n",
    "axs[2].imshow(mov3[50,:,:])\n",
    "axs[2].title.set_text(\"c)\")\n",
    "axs[3].imshow(mov3_mask)\n",
    "axs[3].title.set_text(\"d)\")\n",
    "for ax in axs:\n",
    "    ax.axes.xaxis.set_visible(False)\n",
    "    ax.axes.yaxis.set_visible(False)"
   ]
  },
  {
   "cell_type": "code",
   "execution_count": null,
   "metadata": {},
   "outputs": [],
   "source": [
    "#Perform leveling and segmentation of an image, defining the tile size, original image size, and threshold\n",
    "#the function batch_level_segment() was implemented efficiently using the Numba package\n",
    "mov2_segmented = batch_level_segment(mov2 ,(64,64),(1024,1024),8000)\n",
    "mov3_segmented = batch_level_segment(mov3 ,(64,64),(1024,1024),8000)\n",
    "\n",
    "#Mask the image after leveling and segmenting to avoid plane leveling artifacts at the mask edges\n",
    "mov2_masked_segmented = mask_subtract_arr(mov2_segmented, mov2_mask)\n",
    "mov3_masked_segmented = mask_subtract_arr(mov3_segmented, mov3_mask)\n",
    "\n",
    "#Optionally save the data as a .tif\n",
    "#imsave(\"mov2_segmented.tif\",mov2_masked_segmented.astype(np.uint8))\n",
    "#imsave(\"mov3_segmented.tif\",mov3_masked_segmented.astype(np.uint8))"
   ]
  },
  {
   "cell_type": "code",
   "execution_count": null,
   "metadata": {},
   "outputs": [],
   "source": [
    "#Display some representative frames from the segmented images from a) Movie 2 and b) Movie 3\n",
    "fig, axs = plt.subplots(ncols=2)\n",
    "axs[0].imshow(mov2_masked_segmented[200,:,:])\n",
    "axs[1].imshow(mov3_masked_segmented[200,:,:])\n",
    "for ax in axs:\n",
    "    ax.axes.xaxis.set_visible(False)\n",
    "    ax.axes.yaxis.set_visible(False)"
   ]
  },
  {
   "cell_type": "code",
   "execution_count": null,
   "metadata": {},
   "outputs": [],
   "source": [
    "#Finds the particles in the segmented timeseries image and puts them into a .csv file \n",
    "mov2_particles = findparticles_3d_img(mov2_masked_segmented, minsize=5, maxsize=200)     #minsize of 5 for the crox particles, and 15 for the dark regions\n",
    "mov3_particles = findparticles_3d_img(mov3_masked_segmented, minsize=5, maxsize=200)\n",
    "\n",
    "#Optionally save the particle data to a .csv file\n",
    "# mov2_particles.to_csv(\"mov2_particles.csv\")\n",
    "# mov3_particles.to_csv(\"mov3_particles.csv\")"
   ]
  },
  {
   "cell_type": "markdown",
   "metadata": {},
   "source": [
    "Visualize the time-series data.  This will reproduce the components of Figure 10 from the manuscript"
   ]
  },
  {
   "cell_type": "code",
   "execution_count": null,
   "metadata": {},
   "outputs": [],
   "source": [
    "#index the frame numbers to an absolute amount of Oxygen exposure\n",
    "mov2_particles['langmuir'] = frame_to_langmuir(mov2_particles['frame']+155)\n",
    "mov3_particles['langmuir'] = frame_to_langmuir(mov3_particles['frame']+450)\n",
    "print(mov3_particles.head())\n",
    "print(mov2_particles['langmuir'].max(),mov2_particles['langmuir'].min())\n",
    "print(mov3_particles['langmuir'].max(),mov3_particles['langmuir'].min())"
   ]
  },
  {
   "cell_type": "code",
   "execution_count": null,
   "metadata": {},
   "outputs": [],
   "source": [
    "#get stats for the particles in movies 2 and 3, and separate out the particles in the upper and lower grains.\n",
    "#Because of the masks and the alignment process, the position of the grian boundary split is slightly different for movie 2 and 3 \n",
    "\n",
    "mov2_ug_stats = get_particle_stats(mov2_particles[(mov2_particles['centroid-0'] <600)]) \n",
    "mov2_lg_stats = get_particle_stats(mov2_particles[(mov2_particles['centroid-0'] >=600)])\n",
    "mov3_ug_stats = get_particle_stats(mov3_particles[(mov3_particles['centroid-0'] <560)])\n",
    "mov3_lg_stats = get_particle_stats(mov3_particles[(mov3_particles['centroid-0'] >=560)])"
   ]
  },
  {
   "cell_type": "code",
   "execution_count": null,
   "metadata": {},
   "outputs": [],
   "source": [
    "#Remove frames that are out of focus\n",
    "mov2_ug_stats_filtered = mov2_ug_stats[(mov2_ug_stats['langmuir']<=39) | (mov2_ug_stats['langmuir']>=44)]\n",
    "mov2_lg_stats_filtered = mov2_lg_stats[(mov2_lg_stats['langmuir']<=39) | (mov2_lg_stats['langmuir']>=44)]\n",
    "mov3_ug_stats_filtered = mov3_ug_stats[(mov3_ug_stats['langmuir']<=59.5) & ~((mov3_ug_stats['langmuir']<=57)& (mov3_ug_stats['langmuir']>=55))]\n",
    "mov3_lg_stats_filtered = mov3_lg_stats[(mov3_lg_stats['langmuir']<=59.5) & ~((mov3_lg_stats['langmuir']<=57)& (mov3_lg_stats['langmuir']>=55))]\n",
    "# plt.scatter(mov2_ug_stats_filtered['frame'],mov2_ug_stats_filtered['langmuir'])"
   ]
  },
  {
   "cell_type": "code",
   "execution_count": null,
   "metadata": {},
   "outputs": [],
   "source": [
    "fig, ax = plt.subplots()\n",
    "\n",
    "ax.scatter(mov2_ug_stats_filtered['langmuir'],mov2_ug_stats_filtered['frequency']/169.6,color='xkcd:cobalt')\n",
    "ax.scatter(mov2_lg_stats_filtered['langmuir'],mov2_lg_stats_filtered['frequency']/132.1,color='xkcd:lavender')\n",
    "ax.scatter(mov3_ug_stats_filtered['langmuir'],mov3_ug_stats_filtered['frequency']/153,color='xkcd:cobalt')\n",
    "ax.scatter(mov3_lg_stats_filtered['langmuir'],mov3_lg_stats_filtered['frequency']/186,color='xkcd:lavender')\n",
    "#annotate the plot with the densities measured from the data dimensionality reduction analysis of the hyperspectral images\n",
    "ax.annotate('+', (65, 5.76), color='xkcd:lavender',fontsize=30)\n",
    "ax.annotate('x', (65, 5.73),color='xkcd:cobalt',fontsize=30)\n",
    "#plt.annotate('+', (65, 1.94), color='xkcd:lavender',fontsize=30)\n",
    "ax.legend([\"Upper (212) Grain\", \"Lower (104) Grain\"])\n",
    "# plt.plot(upper_lang, logistic(upper_lang, *popt_upper), color = 'xkcd:cobalt')\n",
    "# plt.plot(lower_lang, logistic(lower_lang, *popt_lower),color = 'xkcd:lavender')\n",
    "ax.set_xlim((30,68))\n",
    "ax.set_ylim((0,8))\n",
    "ax.set_xlabel(\"Oxygen exposure (L)\")\n",
    "ax.set_ylabel(\"Particle density (particles/um$^2$)\")\n",
    "secax = ax.secondary_xaxis('top')\n",
    "#Movie 2 starts at 1345 seconds, the oxidation ends at 6202 seconds\n",
    "timerange = np.linspace(1345,6206,8,dtype=int)\n",
    "secax.set_xticklabels((timerange))\n",
    "secax.set_xlabel(\"Exposure time (s)\")"
   ]
  },
  {
   "cell_type": "code",
   "execution_count": null,
   "metadata": {},
   "outputs": [],
   "source": [
    "\n",
    "#Plot the median size of the islands in pixels and convert to um^2\n",
    "plt.scatter(mov2_ug_stats_filtered['langmuir'], mov2_ug_stats_filtered['median_size']*.025**2, color='xkcd:cobalt') #convert pixel scale to um^2 by multiplying by 0.025 um/px\n",
    "plt.scatter(mov2_lg_stats_filtered['langmuir'], mov2_lg_stats_filtered['median_size']*.025**2,color='xkcd:lavender') \n",
    "plt.scatter(mov3_ug_stats_filtered['langmuir'], mov3_ug_stats_filtered['median_size']*.025**2,color='xkcd:lavender')\n",
    "plt.scatter(mov3_lg_stats_filtered['langmuir'], mov3_lg_stats_filtered['median_size']*.025**2, color='xkcd:cobalt')\n",
    "#plot from 35-65.  Below 35 segmentation identifies some particles but these are not clearly oxide islands, and have high variability\n",
    "plt.xlim((35,65))\n",
    "plt.ylim((0.003,.009))\n",
    "plt.ylabel(\"Median island size ($\\mu$m$^2$)\")\n",
    "plt.xlabel(\"Oxygen Exposure (L)\")\n",
    "plt.legend([\"Upper (212) grain\",\"Lower (104) grain\"])\n",
    "plt.title(\"Median island size\")"
   ]
  }
 ],
 "metadata": {
  "kernelspec": {
   "display_name": "base",
   "language": "python",
   "name": "python3"
  },
  "language_info": {
   "codemirror_mode": {
    "name": "ipython",
    "version": 3
   },
   "file_extension": ".py",
   "mimetype": "text/x-python",
   "name": "python",
   "nbconvert_exporter": "python",
   "pygments_lexer": "ipython3",
   "version": "3.8.8"
  },
  "orig_nbformat": 4
 },
 "nbformat": 4,
 "nbformat_minor": 2
}
