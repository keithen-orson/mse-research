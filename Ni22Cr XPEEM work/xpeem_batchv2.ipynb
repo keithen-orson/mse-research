{
 "cells": [
  {
   "cell_type": "code",
   "execution_count": 38,
   "metadata": {},
   "outputs": [],
   "source": [
    "import matplotlib.pyplot as plt\n",
    "import numpy as np\n",
    "from skimage.io import imread\n",
    "from tifffile import imwrite, imsave\n",
    "import datetime\n",
    "from numba import jit, njit\n"
   ]
  },
  {
   "cell_type": "code",
   "execution_count": 14,
   "metadata": {},
   "outputs": [],
   "source": [
    "image = imread('2-CrXAS-movie@577-5eV.tif')"
   ]
  },
  {
   "cell_type": "code",
   "execution_count": 39,
   "metadata": {},
   "outputs": [],
   "source": [
    "def crop(imframe, n):\n",
    "    \"\"\"This is the old function for tiling the image, it is slower but more understandable than the \n",
    "    tile_image() function that uses np.reshape()\"\"\"\n",
    "    M = int(imframe.shape[0] / n)\n",
    "    N = int(imframe.shape[1] / n)\n",
    "    tiles = [imframe[x:x + M, y:y + N] for x in range(0, imframe.shape[0], M) for y in range(0, imframe.shape[1], N)]\n",
    "    return tiles\n",
    "\n",
    "\n",
    "def tile_image(imframe: np.ndarray, tilesize: tuple):\n",
    "    \"\"\"Returns an array of image tiles with shape (X\"\"\"\n",
    "    img_height, img_width = imframe.shape\n",
    "    tileheight, tilewidth = tilesize\n",
    "\n",
    "    tiled_array = imframe.reshape(img_height // tileheight, tileheight, img_width // tilewidth, tilewidth)\n",
    "    tiled_array = tiled_array.swapaxes(1,2)\n",
    "    return tiled_array\n",
    "\n",
    "\n",
    "def reform_image(tilearray: np.ndarray, originalimage: np.ndarray):\n",
    "    \"\"\"Reforms an image from a tile array with shape (Y, X, n, m) where Y is the tile row number, X is the tile column\n",
    "    number, n is the tile pixel height and m is the tile pixel width.  Returns an image with the shape of the original imag\"\"\"\n",
    "    finalsize = originalimage.shape\n",
    "    tilearray = tilearray.swapaxes(1,2)\n",
    "    return np.reshape(tilearray, finalsize)\n",
    "\n",
    "\n",
    "def plane_level(img: np.ndarray):\n",
    "    \"\"\"Takes a 2d image (numpy array), calculates the mean plane, and returns that 2d image after subtracting the\n",
    "    mean plane\"\"\"\n",
    "\n",
    "    \"\"\"Create x, y, and z (pixel intensity) arrays\"\"\"\n",
    "    dimensions = img.shape\n",
    "    totalpoints = dimensions[0] * dimensions[1]\n",
    "    xarray = np.linspace(0, totalpoints - 1, totalpoints) % dimensions[0]\n",
    "    yarray = np.linspace(0, dimensions[1] - 1, totalpoints)  # a sequence that makes y values that correspond to the z points\n",
    "    xarray = xarray.astype(int)\n",
    "    yarray = yarray.astype(int)\n",
    "    flatimg = img.flatten()\n",
    "    leveled_flat = np.zeros(flatimg.shape)\n",
    "\n",
    "    \"\"\"Calculate the best fit plane through the datapoints\"\"\"\n",
    "    cvals = np.ones(xarray.shape)  # make an array of zeros to represent the coefficients in the below equation\n",
    "    coefs = np.linalg.lstsq(np.stack([xarray, yarray, cvals]).T, flatimg, rcond=None)[0]  # least squares solver for the coefficients of the plane\n",
    "    mean = np.mean(flatimg)\n",
    "\n",
    "    \"\"\"Calculate the leveled Z value \"\"\"\n",
    "    for index, pixel in enumerate(flatimg):\n",
    "        z_fit = (coefs[0] * xarray[index] + coefs[1] * yarray[index] + coefs[2])\n",
    "        zdiff = z_fit-np.mean(mean)\n",
    "        leveled_flat[index] = pixel-zdiff\n",
    "\n",
    "    final_img = leveled_flat.reshape(img.shape)\n",
    "    return final_img.astype(int)\n",
    "\n",
    "@njit\n",
    "def median_prominence_threshold(imgarray, prominence):\n",
    "    \"\"\"Takes an input array and thresholds it using median + prominence\"\"\"\n",
    "    brlevel = np.median(imgarray)\n",
    "    threshold = brlevel + prominence\n",
    "    return (imgarray > threshold)"
   ]
  },
  {
   "cell_type": "code",
   "execution_count": 40,
   "metadata": {},
   "outputs": [
    {
     "name": "stdout",
     "output_type": "stream",
     "text": [
      "2023-09-28 13:35:25.834105 0\n",
      "2023-09-28 13:35:42.832782 1\n",
      "2023-09-28 13:35:59.750210 2\n",
      "2023-09-28 13:36:17.232004 3\n",
      "2023-09-28 13:36:34.192269 4\n"
     ]
    }
   ],
   "source": [
    "segmented_timeseries = np.zeros(image.shape)\n",
    "for step, frame in enumerate(image[0:5,:,:]):\n",
    "    tiles = tile_image(frame, (64, 64))\n",
    "    segmented = np.zeros(tiles.shape)\n",
    "    for i, tile in enumerate(tiles):\n",
    "        for j, subtile in enumerate(tile):\n",
    "            leveltile = plane_level(subtile)\n",
    "            segmentedtile = median_prominence_threshold(leveltile,8000)\n",
    "            segmented[i,j,:,:] =segmentedtile\n",
    "\n",
    "\n",
    "\n",
    "    reformed = reform_image(segmented, frame)\n",
    "    segmented_timeseries[step,:,:] = reformed.astype(np.uint8)\n",
    "    print(datetime.datetime.now(), step)"
   ]
  },
  {
   "cell_type": "code",
   "execution_count": 9,
   "metadata": {},
   "outputs": [],
   "source": [
    "imsave(\"mov_2_median_plus_8000.tif\",segmented_timeseries.astype(np.uint8))"
   ]
  }
 ],
 "metadata": {
  "kernelspec": {
   "display_name": "base",
   "language": "python",
   "name": "python3"
  },
  "language_info": {
   "codemirror_mode": {
    "name": "ipython",
    "version": 3
   },
   "file_extension": ".py",
   "mimetype": "text/x-python",
   "name": "python",
   "nbconvert_exporter": "python",
   "pygments_lexer": "ipython3",
   "version": "3.8.8"
  },
  "orig_nbformat": 4
 },
 "nbformat": 4,
 "nbformat_minor": 2
}
