{
 "cells": [
  {
   "cell_type": "code",
   "execution_count": 26,
   "metadata": {},
   "outputs": [],
   "source": [
    "import pandas as pd\n",
    "import numpy as np\n",
    "from skimage.measure import label, regionprops\n",
    "import trackpy as tp\n",
    "import matplotlib as mpl\n",
    "import matplotlib.pyplot as plt\n",
    "from os.path import isfile, join\n",
    "import datetime\n",
    "from tifffile import imread\n",
    "import numba as nb"
   ]
  },
  {
   "cell_type": "code",
   "execution_count": 17,
   "metadata": {},
   "outputs": [],
   "source": [
    "'''\n",
    "batch process the segmented tiles of the image and just get the data\n",
    "'''\n",
    "\n",
    "crox = True             #choose whether to batch process light particles or dark particles\n",
    "dark_regions = False\n",
    "movie = 3\n",
    "movie = str(movie)\n",
    "minparticlesize = 5\n",
    "maxparticlesize = 200\n",
    "search_range = 5        # how many pixels the particles are allowed to jump between frames- 15 for dark regions and 3 for bright crox particles\n",
    "mintracklength = 15     #filtering by track lengths of 15 frames works well for the dark regions, but for the light particles a smaller number is better\n",
    "mypath = 'median_8000_masked.tif'"
   ]
  },
  {
   "cell_type": "code",
   "execution_count": 24,
   "metadata": {},
   "outputs": [],
   "source": [
    "\n",
    "def findparticles_3d_img(frames: np.array, minsize=5, maxsize = 200):\n",
    "    \"\"\"\n",
    "        This function takes a 3d image \"frames\" with the structure [frame, x, y]\n",
    "\n",
    "       Create a pandas dataframe, and then find the particles (regions) using skimage's label function.  Label connects\n",
    "       regions of the same integer value, i.e. segmented regions. In this dataframe, I also save the perimeter, filled fraction,\n",
    "       and the area.\n",
    "    \"\"\"\n",
    "    black = np.min(frames)\n",
    "    white = np.max(frames)\n",
    "\n",
    "    features = pd.DataFrame()\n",
    "    for num, img in enumerate(frames):\n",
    "        label_image, number_of_labels = label(img, background=black, return_num=True)\n",
    "\n",
    "        for region in regionprops(label_image, intensity_image=img):\n",
    "            # Everywhere, skip small areas\n",
    "            if region.area < minsize:\n",
    "                continue\n",
    "            elif region.area > maxsize:\n",
    "                continue\n",
    "            # Store features which survived to the criterions\n",
    "            features = features.append([{'y': region.centroid[0],\n",
    "                                         'x': region.centroid[1],\n",
    "                                         'area': region.area,\n",
    "                                         'perimeter': region.perimeter,\n",
    "                                         'fraction filled': region.solidity,\n",
    "                                         'frame': num,\n",
    "                                         }])\n",
    "            \n",
    "        print(num)\n",
    "\n",
    "    return features"
   ]
  },
  {
   "cell_type": "code",
   "execution_count": 19,
   "metadata": {},
   "outputs": [
    {
     "name": "stdout",
     "output_type": "stream",
     "text": [
      "Frame 268: 192 trajectories present.\n"
     ]
    }
   ],
   "source": [
    "segmented = imread(mypath)\n",
    "features = findparticles_3d_img(segmented, minparticlesize)     #minsize of 5 for the crox particles, and 15 for the dark regions\n",
    "features.to_csv(\"median_8000_masked_notrackpy.csv\")"
   ]
  },
  {
   "cell_type": "code",
   "execution_count": null,
   "metadata": {},
   "outputs": [],
   "source": []
  },
  {
   "cell_type": "code",
   "execution_count": null,
   "metadata": {},
   "outputs": [],
   "source": [
    "master = pd.DataFrame()\n",
    "t = tp.link_df(features, search_range, memory=25)\n",
    "t1 = tp.filter_stubs(t, mintracklength)      #filtering by track lengths of 15 frames works well for the dark regions, but for the light particles a smaller number is better\n",
    "\n",
    "master = master.append(t1)\n"
   ]
  },
  {
   "cell_type": "code",
   "execution_count": 20,
   "metadata": {},
   "outputs": [],
   "source": [
    "master.to_csv('median_8000_masked.csv')"
   ]
  },
  {
   "cell_type": "code",
   "execution_count": 21,
   "metadata": {},
   "outputs": [],
   "source": []
  }
 ],
 "metadata": {
  "kernelspec": {
   "display_name": "base",
   "language": "python",
   "name": "python3"
  },
  "language_info": {
   "codemirror_mode": {
    "name": "ipython",
    "version": 3
   },
   "file_extension": ".py",
   "mimetype": "text/x-python",
   "name": "python",
   "nbconvert_exporter": "python",
   "pygments_lexer": "ipython3",
   "version": "3.8.8"
  },
  "orig_nbformat": 4
 },
 "nbformat": 4,
 "nbformat_minor": 2
}
