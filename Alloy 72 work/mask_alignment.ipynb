{
 "cells": [
  {
   "cell_type": "code",
   "execution_count": null,
   "metadata": {},
   "outputs": [],
   "source": [
    "import numpy as np\n",
    "import pandas as pd\n",
    "import matplotlib.pyplot as plt\n",
    "from skimage.io import imread\n",
    "from tifffile import imsave\n",
    "from a72_utilities import *\n",
    "from scipy.ndimage import shift\n",
    "from skimage.registration import phase_cross_correlation\n",
    "from skimage.transform import AffineTransform, warp"
   ]
  },
  {
   "cell_type": "code",
   "execution_count": null,
   "metadata": {},
   "outputs": [],
   "source": [
    "xas_elements, xas_masks, xas_photon_energies = load_registered_xas()"
   ]
  },
  {
   "cell_type": "code",
   "execution_count": null,
   "metadata": {},
   "outputs": [],
   "source": [
    "# cr_xas = imread('/Users/apple/Sync/Research/Alloy 72/20240614_Alloy_72_Native_Oxide/Cropped XAS images/XAS_30_um_2CA_2AN_570-584eV_0.2eV_step_Cr2p.tif')\n",
    "# ni_xas = imread('/Users/apple/Sync/Research/Alloy 72/20240614_Alloy_72_Native_Oxide/Cropped XAS images/XAS_30um_2CA_2AN_848-865eV_0.2eV_step_Ni2p_aligned.tif')\n",
    "# ti_xas = imread('/Users/apple/Sync/Research/Alloy 72/20240614_Alloy_72_Native_Oxide/Cropped XAS images/XAS_30um_2CA_2AN_452-470eV_0.2eV_step_Ti2p_aligned.tif')\n",
    "# al_xas = imread('/Users/apple/Sync/Research/Alloy 72/20240614_Alloy_72_Native_Oxide/Cropped XAS images/XAS_30um_2CA_2AN_75-90eV_0.2eV_step_Al2p_aligned.tif')\n",
    "# fe_xas = imread('/Users/apple/Sync/Research/Alloy 72/20240614_Alloy_72_Native_Oxide/Cropped XAS images/XAS_30um_2CA_2AN_703-718eV_0.2eV_step_Fe2p.tif')\n",
    "# xas_elements = {\"Cr\":cr_xas,\"Ni\":ni_xas,\"Ti\":ti_xas,\"Al\":al_xas,\"Fe\":fe_xas}\n",
    "\n",
    "# al_mask = imread('/Users/apple/Sync/Research/Alloy 72/Segmentation/Fiji segmentation/Al_frame_30_leveled_gaussian_blur.tif')\n",
    "# cr_mask = imread('/Users/apple/Sync/Research/Alloy 72/Segmentation/Fiji segmentation/Cr_frame_30_leveled_gaussian_blur.tif')\n",
    "# fe_mask = imread('/Users/apple/Sync/Research/Alloy 72/Segmentation/Fiji segmentation/Fe frame 15 gaussian blur only.tif')\n",
    "# ni_mask = imread('/Users/apple/Sync/Research/Alloy 72/Segmentation/Fiji segmentation/Ni_frame_14_leveled_gaussian_blur.tif')\n",
    "# ti_mask = imread('/Users/apple/Sync/Research/Alloy 72/Segmentation/Fiji segmentation/Ti frame 37 gaussian blur.tif')\n",
    "# xas_masks = {\"Cr\":cr_mask,\"Ni\":ni_mask,\"Ti\":ti_mask,\"Al\":al_mask,\"Fe\":fe_mask}\n",
    "\n",
    "# xas_photon_energies= {\"Cr\":np.linspace(570,584,len(cr_xas)), \"Ni\":np.linspace(848,865,len(ni_xas)), \n",
    "#                       \"Ti\":np.linspace(452,470,len(ti_xas)),\"Al\":np.linspace(75,90,len(al_xas)),\n",
    "#                       \"Fe\":np.linspace(703,718,len(fe_xas))}\n",
    "# print(len(cr_xas),len(ni_xas),len(ti_xas),len(al_xas),len(fe_xas))\n"
   ]
  },
  {
   "cell_type": "code",
   "execution_count": null,
   "metadata": {},
   "outputs": [],
   "source": [
    "\"\"\"Use the phase cross-correlation to align the features each of the images\"\"\"\n",
    "\n",
    "ref_img = xas_masks[\"Al\"]\n",
    "for i, (element,mask) in enumerate(xas_masks.items()):\n",
    "    img_shift,err,phase = phase_cross_correlation(ref_img,mask)\n",
    "    print(element)\n",
    "    print(img_shift)\n",
    "    shifted = shift(mask,img_shift)\n",
    "    shifted_hyperspectral = np.zeros(xas_elements[element].shape)\n",
    "    current_img = xas_elements[element]\n",
    "    for frame in range(len(xas_elements[element])):\n",
    "        shifted_hyperspectral[frame,:,:] = shift(current_img[frame,:,:],img_shift)\n",
    "    \n",
    "    #imsave('/Users/apple/Sync/Research/Alloy 72/Registration/'+element+'_shifted.tif',shifted_hyperspectral.astype(np.uint16))\n",
    "    plt.imshow(shifted-ref_img)\n",
    "    plt.show()\n",
    "\n",
    "#imsave('/Users/apple/Sync/Research/Alloy 72/Registration/test.png', make_16bit())\n"
   ]
  },
  {
   "cell_type": "markdown",
   "metadata": {},
   "source": [
    "Register the negative and positive polarity images from the TOF-SIMS measurements"
   ]
  },
  {
   "cell_type": "code",
   "execution_count": null,
   "metadata": {},
   "outputs": [],
   "source": [
    "positive_polarity_masks = {\"L21\": imread('/Users/apple/Sync/Research/Alloy 72/A72 Tof SIMS/Masks/Positive polarity/l21 from Al+.tif'),\"Ti\":imread('/Users/apple/Sync/Research/Alloy 72/A72 Tof SIMS/Masks/Positive polarity/Ti-Ti ox pphase from TiO+.tif')}\n",
    "negative_polarity_masks = {\"L21\": imread('/Users/apple/Sync/Research/Alloy 72/A72 Tof SIMS/Masks/Negative polarity/L21 from AlOx.tif'),\"Ti\":imread('/Users/apple/Sync/Research/Alloy 72/A72 Tof SIMS/Masks/Negative polarity/Ti rich from Ox.tif')}"
   ]
  },
  {
   "cell_type": "code",
   "execution_count": null,
   "metadata": {},
   "outputs": [],
   "source": [
    "def find_shift_2d(ref_img,moving_img):\n",
    "    img_shift,err,phase = phase_cross_correlation(ref_img,moving_img)\n",
    "    shifted = shift(moving_img,img_shift)\n",
    "    print(img_shift)\n",
    "    plt.imshow(shifted-ref_img)\n",
    "    plt.show()\n",
    "    return shifted"
   ]
  },
  {
   "cell_type": "code",
   "execution_count": null,
   "metadata": {},
   "outputs": [],
   "source": [
    "plt.imshow(find_shift_2d(positive_polarity_masks[\"L21\"],negative_polarity_masks[\"L21\"]))\n",
    "plt.imshow(find_shift_2d(positive_polarity_masks[\"Ti\"],negative_polarity_masks[\"Ti\"]))"
   ]
  },
  {
   "cell_type": "code",
   "execution_count": null,
   "metadata": {},
   "outputs": [],
   "source": [
    "def find_filename(directory, word, filetype=\".txt\"):\n",
    "    matching_files = []\n",
    "    \n",
    "    # Walk through the directory and its subdirectories\n",
    "    for root, dirs, files in os.walk(directory):\n",
    "        for file in files:\n",
    "            # Check if the file is a text file and contains the word in its name\n",
    "            if file.endswith(filetype) and word.lower() in file.lower():\n",
    "                matching_files.append((os.path.join(root, file)))\n",
    "    \n",
    "    return matching_files"
   ]
  },
  {
   "cell_type": "code",
   "execution_count": null,
   "metadata": {},
   "outputs": [],
   "source": [
    "positive_polarity = find_filename('/Users/apple/Sync/Research/Alloy 72/A72 Tof SIMS/Raw data/Passive film component raw data','positive')\n",
    "negative_polarity = find_filename('/Users/apple/Sync/Research/Alloy 72/A72 Tof SIMS/Raw data/Passive film component raw data','negative')"
   ]
  },
  {
   "cell_type": "code",
   "execution_count": null,
   "metadata": {},
   "outputs": [],
   "source": [
    "for i, image_path in enumerate(negative_polarity):\n",
    "    image = read_image_from_textfile(image_path)\n",
    "    shifted = np.zeros(image.shape)\n",
    "    shifted = shift(image,(14,-25))\n",
    "    plt.imshow(shifted)\n",
    "    plt.show()\n",
    "    head, tail = os.path.split(image_path)\n",
    "    #print(head+'/'+'registered_'+tail[:-4]+'.tif')\n",
    "    imsave(os.path.join(head,'registered_'+tail[:-4]+'.tif'),shifted[25:,:-25].astype(np.uint16))\n",
    "\n",
    "\n",
    "for i, image_path in enumerate(positive_polarity):\n",
    "    image = read_image_from_textfile(image_path)\n",
    "    plt.imshow(image)\n",
    "    plt.show()\n",
    "    head, tail = os.path.split(image_path)\n",
    "    imsave(os.path.join(head,'registered_'+tail[:-4]+'.tif'),image[25:,:-25].astype(np.uint16))"
   ]
  },
  {
   "cell_type": "markdown",
   "metadata": {},
   "source": [
    "Register the depth profiles from the Tof-SIMS measurements"
   ]
  },
  {
   "cell_type": "code",
   "execution_count": null,
   "metadata": {},
   "outputs": [],
   "source": [
    "dir = '/Users/apple/Sync/Research/Alloy 72/A72 Tof SIMS/Raw data/Depth profile stacks'\n",
    "depth_profiles = {}\n",
    "for filename in os.listdir(dir):\n",
    "    element = filename[:2]\n",
    "    data = imread(os.path.join(dir, filename))\n",
    "    depth_profiles[element] = data"
   ]
  }
 ],
 "metadata": {
  "kernelspec": {
   "display_name": "base",
   "language": "python",
   "name": "python3"
  },
  "language_info": {
   "codemirror_mode": {
    "name": "ipython",
    "version": 3
   },
   "file_extension": ".py",
   "mimetype": "text/x-python",
   "name": "python",
   "nbconvert_exporter": "python",
   "pygments_lexer": "ipython3",
   "version": "3.8.8"
  }
 },
 "nbformat": 4,
 "nbformat_minor": 2
}
